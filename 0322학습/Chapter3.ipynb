{
 "cells": [
  {
   "cell_type": "markdown",
   "id": "0d66ba26-1ac9-424a-b4b5-62a298abcc7f",
   "metadata": {},
   "source": [
    "# Chapter 3"
   ]
  },
  {
   "cell_type": "markdown",
   "id": "13db7ac5-5f87-4f9a-8a9f-b59355e1f8ea",
   "metadata": {
    "tags": []
   },
   "source": [
    "print() 입력 값을 기본 콘솔(터미널)로 내보내는 역할!!!\n",
    "\n",
    "**OS콘솔**\n",
    "\n",
    " - 표준입출력을 수행하는 프로그램"
   ]
  },
  {
   "cell_type": "code",
   "execution_count": 3,
   "id": "e68d9eea-c2c0-4388-a784-c37d9b9f24f5",
   "metadata": {
    "tags": []
   },
   "outputs": [
    {
     "name": "stdout",
     "output_type": "stream",
     "text": [
      "안녕\n"
     ]
    }
   ],
   "source": [
    "print(\"안녕\")"
   ]
  },
  {
   "cell_type": "code",
   "execution_count": 4,
   "id": "a8c49509-ad93-48f9-b0ce-126a3c976fec",
   "metadata": {},
   "outputs": [
    {
     "name": "stdin",
     "output_type": "stream",
     "text": [
      "입력 ㄹㅈㅂ드ㅏㅣㅏ라ㅣㅇ랑ㄹ나\n"
     ]
    },
    {
     "data": {
      "text/plain": [
       "'ㄹㅈㅂ드ㅏㅣㅏ라ㅣㅇ랑ㄹ나'"
      ]
     },
     "execution_count": 4,
     "metadata": {},
     "output_type": "execute_result"
    }
   ],
   "source": [
    "input('입력')"
   ]
  },
  {
   "cell_type": "code",
   "execution_count": 6,
   "id": "16d77a71-36b9-4dd3-9a49-4fbcec2fb1b1",
   "metadata": {},
   "outputs": [
    {
     "name": "stdout",
     "output_type": "stream",
     "text": [
      "100\n"
     ]
    }
   ],
   "source": [
    "print(100)\n"
   ]
  },
  {
   "cell_type": "markdown",
   "id": "c0e1082a-3e6a-41df-b0ce-d07df85281db",
   "metadata": {},
   "source": [
    "**형식화문자열(Formatting string)**\n",
    "\n",
    "1. '%' 연결자\n",
    "1. String.format()\n",
    "1. f리터럴"
   ]
  },
  {
   "cell_type": "markdown",
   "id": "4604f67c-0ca1-4a1e-a0dc-b6c044fd1ff9",
   "metadata": {},
   "source": [
    "**'%'연결자**"
   ]
  },
  {
   "cell_type": "code",
   "execution_count": 8,
   "id": "28181f1e-2dfc-4fc7-becb-1795cc5b43c8",
   "metadata": {},
   "outputs": [
    {
     "name": "stdout",
     "output_type": "stream",
     "text": [
      "100\n"
     ]
    }
   ],
   "source": [
    "print(\"%d\" % 100)"
   ]
  },
  {
   "cell_type": "code",
   "execution_count": 9,
   "id": "fd830125-1d03-4804-83bb-adea06280f83",
   "metadata": {},
   "outputs": [
    {
     "name": "stdout",
     "output_type": "stream",
     "text": [
      "입력 100는 평균입니다.\n"
     ]
    }
   ],
   "source": [
    "print(\"입력 %d는 평균입니다.\" %100)"
   ]
  },
  {
   "cell_type": "code",
   "execution_count": 14,
   "id": "17d89f3f-f882-4c37-8d2e-841336ede487",
   "metadata": {},
   "outputs": [
    {
     "name": "stdout",
     "output_type": "stream",
     "text": [
      "입력 100는 50의 평균이고 곱셈은 100*50=5000입니다.\n"
     ]
    }
   ],
   "source": [
    "print(\"입력 %d는 %d의 평균이고 곱셈은 %d*%d=%d입니다.\" %(100, 50, 100, 50, (100*50)))"
   ]
  },
  {
   "cell_type": "markdown",
   "id": "3d6f08d0-f7bb-414a-ad1a-6323baa439f2",
   "metadata": {},
   "source": [
    "**f리터럴방식**"
   ]
  },
  {
   "cell_type": "code",
   "execution_count": 15,
   "id": "c11dba60-fc36-4b91-8632-9e65d5cd1ace",
   "metadata": {},
   "outputs": [
    {
     "name": "stdout",
     "output_type": "stream",
     "text": [
      "입력 100는 50의 평균이고 곱셈은 100*50=5000입니다.\n"
     ]
    }
   ],
   "source": [
    "print(f\"입력 {100}는 {50}의 평균이고 곱셈은 {100}*{50}={100*50}입니다.\")"
   ]
  },
  {
   "cell_type": "code",
   "execution_count": 17,
   "id": "b8858c4b-6f2d-467d-897a-329f2b8d74ac",
   "metadata": {},
   "outputs": [
    {
     "name": "stdout",
     "output_type": "stream",
     "text": [
      "1000\n"
     ]
    }
   ],
   "source": [
    "print(\"%d\" %1000)"
   ]
  },
  {
   "cell_type": "code",
   "execution_count": 18,
   "id": "afb2efa5-df5e-4fbf-887e-18551bd633c6",
   "metadata": {},
   "outputs": [
    {
     "name": "stdout",
     "output_type": "stream",
     "text": [
      "0\n"
     ]
    }
   ],
   "source": [
    "print(\"%d\" %0.1)"
   ]
  },
  {
   "cell_type": "code",
   "execution_count": 19,
   "id": "b4f1339f-43c4-40f0-ab41-149ebb90ed6a",
   "metadata": {},
   "outputs": [
    {
     "name": "stdout",
     "output_type": "stream",
     "text": [
      "0.100000\n"
     ]
    }
   ],
   "source": [
    "print(\"%f\" %0.1)"
   ]
  },
  {
   "cell_type": "code",
   "execution_count": 23,
   "id": "560a310e-4e97-4f0a-809b-081d1f2f52e9",
   "metadata": {},
   "outputs": [
    {
     "name": "stdout",
     "output_type": "stream",
     "text": [
      "9 a b c d e\n"
     ]
    }
   ],
   "source": [
    "print(\"%x %x %x %x %x %x\" %(9,10,11,12,13,14,))"
   ]
  },
  {
   "cell_type": "code",
   "execution_count": 24,
   "id": "8c7fd2cd-cbf8-4c45-817a-cf1a87469dea",
   "metadata": {},
   "outputs": [
    {
     "name": "stdout",
     "output_type": "stream",
     "text": [
      "10\n"
     ]
    }
   ],
   "source": [
    "print(\"%x\" %16)"
   ]
  },
  {
   "cell_type": "code",
   "execution_count": 27,
   "id": "893f2aa9-ac91-4605-9e57-b070af78fdaf",
   "metadata": {},
   "outputs": [
    {
     "name": "stdout",
     "output_type": "stream",
     "text": [
      "1 3 7 10 11 12 13\n"
     ]
    }
   ],
   "source": [
    "print(\"%o %o %o %o %o %o %o\" %(1,3,7,8,9,10,11))"
   ]
  },
  {
   "cell_type": "code",
   "execution_count": null,
   "id": "63bad436-f6e5-46ce-ba73-09222482481b",
   "metadata": {},
   "outputs": [],
   "source": []
  },
  {
   "cell_type": "markdown",
   "id": "717334eb-1124-45de-b55f-73bf9be27bfb",
   "metadata": {},
   "source": [
    "책 65~66p\n"
   ]
  },
  {
   "cell_type": "code",
   "execution_count": 28,
   "id": "769065c7-5146-4f94-95ec-a4bbd3c799d3",
   "metadata": {},
   "outputs": [
    {
     "name": "stdout",
     "output_type": "stream",
     "text": [
      "123\n"
     ]
    }
   ],
   "source": [
    "print(\"%d\"%123)"
   ]
  },
  {
   "cell_type": "code",
   "execution_count": 31,
   "id": "b502a3ab-97d2-44bf-afec-03abf86ca41d",
   "metadata": {},
   "outputs": [
    {
     "name": "stdout",
     "output_type": "stream",
     "text": [
      "  123\n"
     ]
    }
   ],
   "source": [
    "print(\"%5d\"%123)"
   ]
  },
  {
   "cell_type": "code",
   "execution_count": 32,
   "id": "0a6f2675-0751-4921-9b00-00b142c5006c",
   "metadata": {},
   "outputs": [
    {
     "name": "stdout",
     "output_type": "stream",
     "text": [
      "00123\n"
     ]
    }
   ],
   "source": [
    "print(\"%05d\"%123)"
   ]
  },
  {
   "cell_type": "code",
   "execution_count": null,
   "id": "41e6f313-047b-4c51-b678-e120ca4a4d6e",
   "metadata": {},
   "outputs": [],
   "source": []
  },
  {
   "cell_type": "code",
   "execution_count": 33,
   "id": "2e753efd-881f-4d3f-bdf3-52bf10b36468",
   "metadata": {},
   "outputs": [
    {
     "name": "stdout",
     "output_type": "stream",
     "text": [
      "123.450000\n"
     ]
    }
   ],
   "source": [
    "print(\"%f\"%123.45)"
   ]
  },
  {
   "cell_type": "code",
   "execution_count": 34,
   "id": "905270c3-fd44-4496-b455-df194bc61fc2",
   "metadata": {},
   "outputs": [
    {
     "name": "stdout",
     "output_type": "stream",
     "text": [
      "  123.5\n"
     ]
    }
   ],
   "source": [
    "print(\"%7.1f\"%123.45)"
   ]
  },
  {
   "cell_type": "code",
   "execution_count": 35,
   "id": "928608a3-8c46-43b4-91e5-145abb2014c1",
   "metadata": {},
   "outputs": [
    {
     "name": "stdout",
     "output_type": "stream",
     "text": [
      "123.450\n"
     ]
    }
   ],
   "source": [
    "print(\"%7.3f\"%123.45)"
   ]
  },
  {
   "cell_type": "code",
   "execution_count": null,
   "id": "77e3c5b0-28b4-4b26-bf58-2c45397e5a90",
   "metadata": {},
   "outputs": [],
   "source": []
  },
  {
   "cell_type": "code",
   "execution_count": 36,
   "id": "a9dee5c5-da78-4ed7-b26e-3f6377f10575",
   "metadata": {},
   "outputs": [
    {
     "name": "stdout",
     "output_type": "stream",
     "text": [
      "python\n"
     ]
    }
   ],
   "source": [
    "print(\"%s\"%\"python\")"
   ]
  },
  {
   "cell_type": "code",
   "execution_count": 37,
   "id": "9961d9a5-6df2-4e5f-8b38-c5a26d4187af",
   "metadata": {},
   "outputs": [
    {
     "name": "stdout",
     "output_type": "stream",
     "text": [
      "    python\n"
     ]
    }
   ],
   "source": [
    "print(\"%10s\"%\"python\")"
   ]
  },
  {
   "cell_type": "code",
   "execution_count": null,
   "id": "9b67b659-caa9-437d-801e-9339ca21efbd",
   "metadata": {},
   "outputs": [],
   "source": []
  },
  {
   "cell_type": "markdown",
   "id": "d89925af-8591-4e30-af4f-3609ed859e0d",
   "metadata": {},
   "source": [
    "**format() 문자열**"
   ]
  },
  {
   "cell_type": "code",
   "execution_count": 38,
   "id": "6735d678-652d-400e-9664-fd378d453b5d",
   "metadata": {},
   "outputs": [
    {
     "name": "stdout",
     "output_type": "stream",
     "text": [
      "123   123 00123\n"
     ]
    }
   ],
   "source": [
    "print(\"%d %5d %05d\" %(123,123,123))"
   ]
  },
  {
   "cell_type": "code",
   "execution_count": 39,
   "id": "744f441b-4279-4192-876b-55105bb4027b",
   "metadata": {},
   "outputs": [
    {
     "name": "stdout",
     "output_type": "stream",
     "text": [
      "123   123 00123\n"
     ]
    }
   ],
   "source": [
    "print(\"{0:d} {1:5d} {2:05d}\".format(123,123,123))"
   ]
  },
  {
   "cell_type": "code",
   "execution_count": 40,
   "id": "40b28835-dfd1-4f47-a49a-6824ff9e4fe8",
   "metadata": {},
   "outputs": [
    {
     "name": "stdout",
     "output_type": "stream",
     "text": [
      "567   234 00123\n"
     ]
    }
   ],
   "source": [
    "print(\"{2:d} {1:5d} {0:05d}\".format(123,234,567))"
   ]
  },
  {
   "cell_type": "markdown",
   "id": "03d46f89-a781-49a2-8142-a219e1fb0fab",
   "metadata": {},
   "source": [
    "**이스케이프 문자**"
   ]
  },
  {
   "cell_type": "code",
   "execution_count": null,
   "id": "fd3c2dc8-ca9f-4149-8c3a-e61ff12a454e",
   "metadata": {},
   "outputs": [
    {
     "name": "stdout",
     "output_type": "stream",
     "text": [
      "\n",
      "줄바꿈\n",
      "연습\n"
     ]
    }
   ],
   "source": [
    "print(\"\\n줄바꿈\\n연습\")"
   ]
  },
  {
   "cell_type": "code",
   "execution_count": 54,
   "id": "7d64252c-b049-4492-b695-36bc08486763",
   "metadata": {},
   "outputs": [
    {
     "name": "stdout",
     "output_type": "stream",
     "text": [
      "\t탭키\t연습\n",
      "글자가\"강조\"되는 효과1\n",
      "글자가'강조'되는 효과2\n",
      "\\\\\\ 역슬래시 세 개 출력\n"
     ]
    }
   ],
   "source": [
    "print(\"\\t탭키\\t연습\")\n",
    "\n",
    "print(\"글자가\\\"강조\\\"되는 효과1\")\n",
    "\n",
    "print(\"글자가\\'강조\\'되는 효과2\")\n",
    "\n",
    "print(\"\\\\\\\\\\\\ 역슬래시 세 개 출력\")"
   ]
  },
  {
   "cell_type": "markdown",
   "id": "97f198ec-b25c-4297-ad86-ec9288167889",
   "metadata": {},
   "source": [
    "raw string"
   ]
  },
  {
   "cell_type": "code",
   "execution_count": null,
   "id": "9e6d9b71-c09d-44c6-b425-f74e18952de3",
   "metadata": {},
   "outputs": [
    {
     "name": "stdout",
     "output_type": "stream",
     "text": [
      "\\n\\t\\\"\\\\를 그대로 출력\n"
     ]
    }
   ],
   "source": [
    "print(r\"\\n\\t\\\"\\\\를 그대로 출력\")"
   ]
  },
  {
   "cell_type": "code",
   "execution_count": 56,
   "id": "346bbc07-f535-4ab4-ad10-35ff7b2ab6ed",
   "metadata": {},
   "outputs": [
    {
     "name": "stdout",
     "output_type": "stream",
     "text": [
      "    *    \n",
      "   ***   \n",
      "  *****  \n",
      " ******* \n",
      "*********\n",
      " ******* \n",
      "  *****  \n",
      "   ***   \n",
      "    *    \n"
     ]
    }
   ],
   "source": [
    "print(\"    *    \")\n",
    "print(\"   ***   \")\n",
    "print(\"  *****  \")\n",
    "print(\" ******* \")\n",
    "print(\"*********\")\n",
    "print(\" ******* \")\n",
    "print(\"  *****  \")\n",
    "print(\"   ***   \")\n",
    "print(\"    *    \")"
   ]
  },
  {
   "cell_type": "markdown",
   "id": "1108bbf9-7ca0-449a-a3b8-c07a0aa085bf",
   "metadata": {},
   "source": [
    "# Section3\n",
    "\n",
    "변수 = 동적타이핑(Dynamic typing)"
   ]
  },
  {
   "cell_type": "markdown",
   "id": "925bd4ac-8994-445a-87dc-b7cbc34cdb1d",
   "metadata": {},
   "source": []
  },
  {
   "cell_type": "code",
   "execution_count": 58,
   "id": "a2c31daf-2cb1-4f81-9b5d-d9003b8b073d",
   "metadata": {},
   "outputs": [],
   "source": [
    "# 참거짓 값: True, false"
   ]
  },
  {
   "cell_type": "code",
   "execution_count": 63,
   "id": "d3a7a9fa-839e-46bb-ab0f-0ddf82636bfd",
   "metadata": {},
   "outputs": [],
   "source": [
    "boolVar = True"
   ]
  },
  {
   "cell_type": "code",
   "execution_count": 64,
   "id": "02e4e899-6233-444b-b972-f5968af92d03",
   "metadata": {},
   "outputs": [
    {
     "data": {
      "text/plain": [
       "True"
      ]
     },
     "execution_count": 64,
     "metadata": {},
     "output_type": "execute_result"
    }
   ],
   "source": [
    "boolVar"
   ]
  },
  {
   "cell_type": "code",
   "execution_count": 66,
   "id": "7a177c82-ee02-4b54-85de-f07069933688",
   "metadata": {},
   "outputs": [
    {
     "data": {
      "text/plain": [
       "'문자열'"
      ]
     },
     "execution_count": 66,
     "metadata": {},
     "output_type": "execute_result"
    }
   ],
   "source": [
    "boolVar = \"문자열\"\n",
    "boolVar"
   ]
  },
  {
   "cell_type": "code",
   "execution_count": 68,
   "id": "740d96b4-b4a9-481b-87d6-cd13ed5469ac",
   "metadata": {},
   "outputs": [],
   "source": [
    "boolVar = 0.1"
   ]
  },
  {
   "cell_type": "code",
   "execution_count": 71,
   "id": "17684f9d-76f0-4992-a904-98262aac43b9",
   "metadata": {},
   "outputs": [
    {
     "ename": "TypeError",
     "evalue": "can only concatenate str (not \"float\") to str",
     "output_type": "error",
     "traceback": [
      "\u001b[1;31m---------------------------------------------------------------------------\u001b[0m",
      "\u001b[1;31mTypeError\u001b[0m                                 Traceback (most recent call last)",
      "\u001b[1;32m~\\AppData\\Local\\Temp/ipykernel_2344/4034436319.py\u001b[0m in \u001b[0;36m<module>\u001b[1;34m\u001b[0m\n\u001b[1;32m----> 1\u001b[1;33m \u001b[0mprint\u001b[0m\u001b[1;33m(\u001b[0m\u001b[1;34m\"boolVar는 \"\u001b[0m \u001b[1;33m+\u001b[0m \u001b[0mboolVar\u001b[0m\u001b[1;33m)\u001b[0m\u001b[1;33m\u001b[0m\u001b[1;33m\u001b[0m\u001b[0m\n\u001b[0m",
      "\u001b[1;31mTypeError\u001b[0m: can only concatenate str (not \"float\") to str"
     ]
    }
   ],
   "source": [
    "print(\"boolVar는 \" + boolVar)"
   ]
  },
  {
   "cell_type": "code",
   "execution_count": 72,
   "id": "5cb36e5f-951e-42ba-a900-018250642789",
   "metadata": {},
   "outputs": [
    {
     "name": "stdout",
     "output_type": "stream",
     "text": [
      "boolVar는  0.1\n"
     ]
    }
   ],
   "source": [
    "print(\"boolVar는 \" , boolVar)"
   ]
  },
  {
   "cell_type": "code",
   "execution_count": 73,
   "id": "21835595-a26d-4c2f-8419-fe11fb59a557",
   "metadata": {},
   "outputs": [
    {
     "name": "stdout",
     "output_type": "stream",
     "text": [
      "boolVar는 0.100000 \n"
     ]
    }
   ],
   "source": [
    "print(\"boolVar는 %f \" % boolVar)"
   ]
  },
  {
   "cell_type": "code",
   "execution_count": 74,
   "id": "acf6d835-0152-4ff2-bc8f-b0a8500be287",
   "metadata": {},
   "outputs": [
    {
     "name": "stdout",
     "output_type": "stream",
     "text": [
      "boolVar는 0.1\n"
     ]
    }
   ],
   "source": [
    "print(\"boolVar는 \" + \"0.1\")"
   ]
  },
  {
   "cell_type": "code",
   "execution_count": 75,
   "id": "e60e5dcb-fd98-43ab-9f30-5d67771c1de0",
   "metadata": {},
   "outputs": [
    {
     "data": {
      "text/plain": [
       "(True, 0, 0.1, '안녕')"
      ]
     },
     "execution_count": 75,
     "metadata": {},
     "output_type": "execute_result"
    }
   ],
   "source": [
    "a,b,f,s = True,0,0.1,\"안녕\"\n",
    "a,b,f,s"
   ]
  },
  {
   "cell_type": "markdown",
   "id": "4938e6e1-29e0-4534-a78d-9616e16f4a3a",
   "metadata": {},
   "source": [
    "변수이름\n",
    " - 숫자시작 X\n",
    " - 예약어 X"
   ]
  },
  {
   "cell_type": "code",
   "execution_count": 80,
   "id": "5b932968-8c99-4c91-b7b2-5739f7d305b4",
   "metadata": {},
   "outputs": [
    {
     "data": {
      "text/plain": [
       "(10, 11)"
      ]
     },
     "execution_count": 80,
     "metadata": {},
     "output_type": "execute_result"
    }
   ],
   "source": [
    "# 대소문자 구분\n",
    "myVar = 10\n",
    "MyVar = 11\n",
    "myVar, MyVar"
   ]
  },
  {
   "cell_type": "markdown",
   "id": "85f70754-512a-461e-813b-264b4df8785a",
   "metadata": {},
   "source": [
    "예약어!"
   ]
  },
  {
   "cell_type": "code",
   "execution_count": 79,
   "id": "404afc1a-8855-432c-9323-e3d02c356fcf",
   "metadata": {},
   "outputs": [],
   "source": [
    "import keyword"
   ]
  },
  {
   "cell_type": "code",
   "execution_count": 81,
   "id": "91bb3461-be8b-4f7f-ad30-c2fa8995bc96",
   "metadata": {},
   "outputs": [
    {
     "data": {
      "text/plain": [
       "['False',\n",
       " 'None',\n",
       " 'True',\n",
       " '__peg_parser__',\n",
       " 'and',\n",
       " 'as',\n",
       " 'assert',\n",
       " 'async',\n",
       " 'await',\n",
       " 'break',\n",
       " 'class',\n",
       " 'continue',\n",
       " 'def',\n",
       " 'del',\n",
       " 'elif',\n",
       " 'else',\n",
       " 'except',\n",
       " 'finally',\n",
       " 'for',\n",
       " 'from',\n",
       " 'global',\n",
       " 'if',\n",
       " 'import',\n",
       " 'in',\n",
       " 'is',\n",
       " 'lambda',\n",
       " 'nonlocal',\n",
       " 'not',\n",
       " 'or',\n",
       " 'pass',\n",
       " 'raise',\n",
       " 'return',\n",
       " 'try',\n",
       " 'while',\n",
       " 'with',\n",
       " 'yield']"
      ]
     },
     "execution_count": 81,
     "metadata": {},
     "output_type": "execute_result"
    }
   ],
   "source": [
    "keyword.kwlist"
   ]
  },
  {
   "cell_type": "code",
   "execution_count": null,
   "id": "736ad064-e001-4b45-9029-5fc4934918a4",
   "metadata": {},
   "outputs": [],
   "source": []
  },
  {
   "cell_type": "code",
   "execution_count": null,
   "id": "2f836c58-d39e-47d8-abd2-dd144ea1a5a7",
   "metadata": {},
   "outputs": [],
   "source": []
  },
  {
   "cell_type": "code",
   "execution_count": null,
   "id": "209cb108-2c24-4d29-9bda-54979c9b25b2",
   "metadata": {},
   "outputs": [],
   "source": []
  },
  {
   "cell_type": "markdown",
   "id": "c2934360-b245-4790-a0d6-845d234aaf85",
   "metadata": {},
   "source": [
    "type()"
   ]
  },
  {
   "cell_type": "code",
   "execution_count": 82,
   "id": "eabe0a50-6bf4-4b91-86d2-f3854b6bcc16",
   "metadata": {},
   "outputs": [
    {
     "data": {
      "text/plain": [
       "int"
      ]
     },
     "execution_count": 82,
     "metadata": {},
     "output_type": "execute_result"
    }
   ],
   "source": [
    "type(myVar)"
   ]
  },
  {
   "cell_type": "code",
   "execution_count": 83,
   "id": "5e6f6712-9c0b-4208-99fb-84972dccd924",
   "metadata": {},
   "outputs": [
    {
     "data": {
      "text/plain": [
       "bool"
      ]
     },
     "execution_count": 83,
     "metadata": {},
     "output_type": "execute_result"
    }
   ],
   "source": [
    "type(a)"
   ]
  },
  {
   "cell_type": "code",
   "execution_count": 84,
   "id": "10a2b711-9fed-4d36-b2ea-1588a37d0489",
   "metadata": {},
   "outputs": [
    {
     "data": {
      "text/plain": [
       "float"
      ]
     },
     "execution_count": 84,
     "metadata": {},
     "output_type": "execute_result"
    }
   ],
   "source": [
    "a=100.01\n",
    "type(a)"
   ]
  },
  {
   "cell_type": "code",
   "execution_count": null,
   "id": "7d3cd97c-2f5c-4347-83b3-2099ad7da2c1",
   "metadata": {},
   "outputs": [],
   "source": []
  },
  {
   "cell_type": "markdown",
   "id": "c419d7be-96ab-4dff-8185-2ad1e1d1c721",
   "metadata": {},
   "source": [
    "진수 변환"
   ]
  },
  {
   "cell_type": "code",
   "execution_count": 85,
   "id": "66a46a13-9634-49fd-8653-c21bc3283d5e",
   "metadata": {},
   "outputs": [
    {
     "data": {
      "text/plain": [
       "147"
      ]
     },
     "execution_count": 85,
     "metadata": {},
     "output_type": "execute_result"
    }
   ],
   "source": [
    "0b10010011"
   ]
  },
  {
   "cell_type": "code",
   "execution_count": 87,
   "id": "e7e1a983-a5d0-4f16-b9dc-05f63082d826",
   "metadata": {},
   "outputs": [
    {
     "data": {
      "text/plain": [
       "147"
      ]
     },
     "execution_count": 87,
     "metadata": {},
     "output_type": "execute_result"
    }
   ],
   "source": [
    "a = 0b10010011\n",
    "a"
   ]
  },
  {
   "cell_type": "code",
   "execution_count": 91,
   "id": "61190886-bbbe-4f4e-9550-62ee44e27a72",
   "metadata": {},
   "outputs": [
    {
     "data": {
      "text/plain": [
       "147"
      ]
     },
     "execution_count": 91,
     "metadata": {},
     "output_type": "execute_result"
    }
   ],
   "source": [
    "int('10010011',2)"
   ]
  },
  {
   "cell_type": "code",
   "execution_count": 93,
   "id": "5fd16072-6a7d-4188-84fa-cb631fad8687",
   "metadata": {},
   "outputs": [
    {
     "data": {
      "text/plain": [
       "147"
      ]
     },
     "execution_count": 93,
     "metadata": {},
     "output_type": "execute_result"
    }
   ],
   "source": [
    "int('93',16)"
   ]
  },
  {
   "cell_type": "code",
   "execution_count": 94,
   "id": "9a71faf0-0f79-4670-b3e4-a8d397e62fdc",
   "metadata": {},
   "outputs": [
    {
     "data": {
      "text/plain": [
       "'0b10010011'"
      ]
     },
     "execution_count": 94,
     "metadata": {},
     "output_type": "execute_result"
    }
   ],
   "source": [
    "bin(147)"
   ]
  },
  {
   "cell_type": "code",
   "execution_count": 95,
   "id": "24d4a6c3-c150-4c63-9a02-a07381acde89",
   "metadata": {},
   "outputs": [
    {
     "data": {
      "text/plain": [
       "'0b11111010'"
      ]
     },
     "execution_count": 95,
     "metadata": {},
     "output_type": "execute_result"
    }
   ],
   "source": [
    "bin(0xFA)"
   ]
  },
  {
   "cell_type": "code",
   "execution_count": 97,
   "id": "d9c93ebe-b09d-49f6-b518-e31933f17571",
   "metadata": {},
   "outputs": [
    {
     "data": {
      "text/plain": [
       "'0o223'"
      ]
     },
     "execution_count": 97,
     "metadata": {},
     "output_type": "execute_result"
    }
   ],
   "source": [
    "oct(147)"
   ]
  },
  {
   "cell_type": "code",
   "execution_count": 98,
   "id": "595f962b-9755-4e1b-bd04-bba91cf83db7",
   "metadata": {},
   "outputs": [
    {
     "data": {
      "text/plain": [
       "'0x93'"
      ]
     },
     "execution_count": 98,
     "metadata": {},
     "output_type": "execute_result"
    }
   ],
   "source": [
    "hex(147)"
   ]
  },
  {
   "cell_type": "markdown",
   "id": "28d3332f-7a44-4484-85fc-4d35a317abb5",
   "metadata": {},
   "source": [
    "## P.81"
   ]
  },
  {
   "cell_type": "code",
   "execution_count": 105,
   "id": "aa5966d8-f9b1-4f1c-b9b5-50acc36e5d51",
   "metadata": {},
   "outputs": [
    {
     "data": {
      "text/plain": [
       "(10, '265')"
      ]
     },
     "execution_count": 105,
     "metadata": {},
     "output_type": "execute_result"
    }
   ],
   "source": [
    "sel, num"
   ]
  },
  {
   "cell_type": "code",
   "execution_count": 104,
   "id": "e8aedd55-3f60-4313-9577-0cd79b54bf04",
   "metadata": {},
   "outputs": [
    {
     "name": "stdin",
     "output_type": "stream",
     "text": [
      "입력 진수 결정(16/10/8/2) :  10\n",
      "값 입력 : 265\n"
     ]
    },
    {
     "name": "stdout",
     "output_type": "stream",
     "text": [
      "16진수==>  0x109\n",
      "10진수==>  265\n",
      "8진수==>  0o411\n",
      "2진수==>  0b100001001\n"
     ]
    }
   ],
   "source": [
    "sel = int(input(\"입력 진수 결정(16/10/8/2) : \"))\n",
    "num = input(\"값 입력 :\")\n",
    "\n",
    "if sel ==16:\n",
    "      num10 = int(num,16)\n",
    "if sel ==10:\n",
    "      num10 = int(num,10)\n",
    "if sel ==8:\n",
    "      num10 = int(num,8)\n",
    "if sel ==2:\n",
    "      num10 = int(num,2)\n",
    "        \n",
    "print(\"16진수==> \", hex(num10))\n",
    "print(\"10진수==> \", num10)\n",
    "print(\"8진수==> \", oct(num10))\n",
    "print(\"2진수==> \", bin(num10))"
   ]
  },
  {
   "cell_type": "markdown",
   "id": "75eb06fb-8297-4c93-b760-c14e721d2353",
   "metadata": {},
   "source": [
    "> 81쪽 -> 조건문 하고 실습!!!"
   ]
  },
  {
   "cell_type": "code",
   "execution_count": null,
   "id": "d30acdba-6e11-43a7-85db-af0349aae694",
   "metadata": {},
   "outputs": [],
   "source": []
  },
  {
   "cell_type": "markdown",
   "id": "2da4e189-7d4b-41c6-b0ba-82dbf8ba9577",
   "metadata": {},
   "source": [
    "# Sec05 기본 데이터형\n",
    "\n",
    "기본형식 -> 하나의 값을 저장하는 방법"
   ]
  },
  {
   "cell_type": "code",
   "execution_count": 118,
   "id": "a700e306-5b79-42ba-aca6-cf9de9d2284a",
   "metadata": {},
   "outputs": [
    {
     "data": {
      "text/plain": [
       "123"
      ]
     },
     "execution_count": 118,
     "metadata": {},
     "output_type": "execute_result"
    }
   ],
   "source": [
    "a =123 # 정수\n",
    "a"
   ]
  },
  {
   "cell_type": "code",
   "execution_count": 119,
   "id": "101c5a4b-df89-41a8-a3d9-b5d45b4d2c5b",
   "metadata": {},
   "outputs": [
    {
     "data": {
      "text/plain": [
       "int"
      ]
     },
     "execution_count": 119,
     "metadata": {},
     "output_type": "execute_result"
    }
   ],
   "source": [
    "type(a)"
   ]
  },
  {
   "cell_type": "code",
   "execution_count": 120,
   "id": "1f755655-3dc6-4b78-b11b-46bd1dc16285",
   "metadata": {},
   "outputs": [
    {
     "data": {
      "text/plain": [
       "123000"
      ]
     },
     "execution_count": 120,
     "metadata": {},
     "output_type": "execute_result"
    }
   ],
   "source": [
    "a = a * 1000\n",
    "a"
   ]
  },
  {
   "cell_type": "code",
   "execution_count": 121,
   "id": "deb110de-961e-4dba-92f2-ab45cd2d591c",
   "metadata": {},
   "outputs": [
    {
     "data": {
      "text/plain": [
       "100000000000000000000000000000000000000000000000000000000000000000000000000000000000000000000000000000000000000000000000000000000000000000000000000000000000000000000000000000000000000000000000000000000"
      ]
     },
     "execution_count": 121,
     "metadata": {},
     "output_type": "execute_result"
    }
   ],
   "source": [
    "a = 100**100\n",
    "a"
   ]
  },
  {
   "cell_type": "code",
   "execution_count": 122,
   "id": "10aaac51-572a-413b-805e-4e043b2623f8",
   "metadata": {},
   "outputs": [
    {
     "data": {
      "text/plain": [
       "int"
      ]
     },
     "execution_count": 122,
     "metadata": {},
     "output_type": "execute_result"
    }
   ],
   "source": [
    "type(a)"
   ]
  },
  {
   "cell_type": "code",
   "execution_count": 123,
   "id": "e53e72e4-c101-4242-a065-e2ad8927699d",
   "metadata": {},
   "outputs": [
    {
     "data": {
      "text/plain": [
       "int"
      ]
     },
     "execution_count": 123,
     "metadata": {},
     "output_type": "execute_result"
    }
   ],
   "source": [
    "a= 0xff\n",
    "type(a)"
   ]
  },
  {
   "cell_type": "code",
   "execution_count": 124,
   "id": "e8a1fdc8-d5fd-4604-8c09-e3d703e6d4e2",
   "metadata": {},
   "outputs": [
    {
     "data": {
      "text/plain": [
       "int"
      ]
     },
     "execution_count": 124,
     "metadata": {},
     "output_type": "execute_result"
    }
   ],
   "source": [
    "type(0b11111)"
   ]
  },
  {
   "cell_type": "code",
   "execution_count": 125,
   "id": "2e18bb90-eefd-496a-89a0-eff1ff673a8c",
   "metadata": {},
   "outputs": [
    {
     "data": {
      "text/plain": [
       "int"
      ]
     },
     "execution_count": 125,
     "metadata": {},
     "output_type": "execute_result"
    }
   ],
   "source": [
    "type(0o77)"
   ]
  },
  {
   "cell_type": "code",
   "execution_count": 126,
   "id": "a144df7c-f947-40d9-a823-02b6fcdcc1e4",
   "metadata": {},
   "outputs": [
    {
     "name": "stdout",
     "output_type": "stream",
     "text": [
      "3.14 314000.0\n"
     ]
    }
   ],
   "source": [
    "a = 3.14\n",
    "b = 3.14e5\n",
    "print(a,b)"
   ]
  },
  {
   "cell_type": "code",
   "execution_count": 127,
   "id": "200c1df3-f80f-4d1d-b556-9f19a13aa07a",
   "metadata": {},
   "outputs": [
    {
     "data": {
      "text/plain": [
       "110000.0"
      ]
     },
     "execution_count": 127,
     "metadata": {},
     "output_type": "execute_result"
    }
   ],
   "source": [
    "1.1e5"
   ]
  },
  {
   "cell_type": "code",
   "execution_count": 128,
   "id": "5a9374d8-3eb9-4539-8160-a58850d111f0",
   "metadata": {},
   "outputs": [
    {
     "data": {
      "text/plain": [
       "101000.0"
      ]
     },
     "execution_count": 128,
     "metadata": {},
     "output_type": "execute_result"
    }
   ],
   "source": [
    "1.01e5"
   ]
  },
  {
   "cell_type": "code",
   "execution_count": 129,
   "id": "b366f3a5-41a4-427d-b435-1355986d9648",
   "metadata": {},
   "outputs": [
    {
     "name": "stdout",
     "output_type": "stream",
     "text": [
      "30 -10 200 0.5\n"
     ]
    }
   ],
   "source": [
    "a = 10 ; b = 20\n",
    "print(a+b , a-b, a*b, a/b)"
   ]
  },
  {
   "cell_type": "markdown",
   "id": "cce41e3b-1c7b-45d8-a3c2-ab963288b5c9",
   "metadata": {},
   "source": [
    "1. 정밀도가 큰 자료형으로 결과가 반환!\n",
    "2. 자료 범위가 큰 자료형으로 결과가 반환! <-- python에서는 큰 의미 X"
   ]
  },
  {
   "cell_type": "code",
   "execution_count": 130,
   "id": "3ceb49d2-ffb0-452d-a378-79d756cc1a3b",
   "metadata": {},
   "outputs": [
    {
     "name": "stdout",
     "output_type": "stream",
     "text": [
      "81 1 4\n"
     ]
    }
   ],
   "source": [
    "a,b = 9,2\n",
    "print(a**b, a%b, a//b)"
   ]
  },
  {
   "cell_type": "code",
   "execution_count": 131,
   "id": "6af883ae-ce15-430c-82f8-505cfb33332b",
   "metadata": {},
   "outputs": [
    {
     "data": {
      "text/plain": [
       "1"
      ]
     },
     "execution_count": 131,
     "metadata": {},
     "output_type": "execute_result"
    }
   ],
   "source": [
    "a % b #나머지"
   ]
  },
  {
   "cell_type": "code",
   "execution_count": 132,
   "id": "495e1697-3002-4981-acef-fa8472b290e3",
   "metadata": {},
   "outputs": [
    {
     "data": {
      "text/plain": [
       "4"
      ]
     },
     "execution_count": 132,
     "metadata": {},
     "output_type": "execute_result"
    }
   ],
   "source": [
    "a // b #몫"
   ]
  },
  {
   "cell_type": "markdown",
   "id": "fa77e7b8-c65b-43df-a848-20d53539a5e3",
   "metadata": {},
   "source": [
    "불리언 : True, False"
   ]
  },
  {
   "cell_type": "code",
   "execution_count": 133,
   "id": "2b514346-0022-47a2-93d9-871a8fd15ec7",
   "metadata": {},
   "outputs": [
    {
     "data": {
      "text/plain": [
       "bool"
      ]
     },
     "execution_count": 133,
     "metadata": {},
     "output_type": "execute_result"
    }
   ],
   "source": [
    "type(True)"
   ]
  },
  {
   "cell_type": "code",
   "execution_count": 134,
   "id": "0d168df6-84e5-4107-91b0-c6af7af72c54",
   "metadata": {},
   "outputs": [
    {
     "data": {
      "text/plain": [
       "False"
      ]
     },
     "execution_count": 134,
     "metadata": {},
     "output_type": "execute_result"
    }
   ],
   "source": [
    "10 == 1"
   ]
  },
  {
   "cell_type": "code",
   "execution_count": 136,
   "id": "e622295b-8dfe-4ffc-8b0e-6d322ea1e236",
   "metadata": {},
   "outputs": [
    {
     "data": {
      "text/plain": [
       "(False, True)"
      ]
     },
     "execution_count": 136,
     "metadata": {},
     "output_type": "execute_result"
    }
   ],
   "source": [
    "10 == 1 , 10 ==10"
   ]
  },
  {
   "cell_type": "code",
   "execution_count": 137,
   "id": "6a1bb35e-fea9-4aa5-a4d7-134ac58f2f6a",
   "metadata": {},
   "outputs": [
    {
     "data": {
      "text/plain": [
       "bool"
      ]
     },
     "execution_count": 137,
     "metadata": {},
     "output_type": "execute_result"
    }
   ],
   "source": [
    "a= True\n",
    "type(a)"
   ]
  },
  {
   "cell_type": "code",
   "execution_count": 138,
   "id": "b437a5fb-b408-4ade-be0f-3d097af19f41",
   "metadata": {},
   "outputs": [
    {
     "name": "stdout",
     "output_type": "stream",
     "text": [
      "True False\n"
     ]
    }
   ],
   "source": [
    "a=(100 ==100)\n",
    "b=(10>100)\n",
    "print(a,b)"
   ]
  },
  {
   "cell_type": "markdown",
   "id": "4d5ea68a-004a-487f-8418-9523e30efb62",
   "metadata": {},
   "source": [
    "\n",
    "문자열 : 문자의 집합!"
   ]
  },
  {
   "cell_type": "code",
   "execution_count": 142,
   "id": "5d19b23c-672f-4a70-93eb-0eafc191803c",
   "metadata": {},
   "outputs": [
    {
     "name": "stdout",
     "output_type": "stream",
     "text": [
      "파이썬 만세\n"
     ]
    },
    {
     "data": {
      "text/plain": [
       "str"
      ]
     },
     "execution_count": 142,
     "metadata": {},
     "output_type": "execute_result"
    }
   ],
   "source": [
    "a = \"파이썬 만세\"\n",
    "a\n",
    "print(a)\n",
    "type(a)"
   ]
  },
  {
   "cell_type": "code",
   "execution_count": 144,
   "id": "46315ad0-b383-460b-8d12-e4c564cd1a73",
   "metadata": {},
   "outputs": [
    {
     "ename": "SyntaxError",
     "evalue": "EOL while scanning string literal (Temp/ipykernel_2344/2514768537.py, line 1)",
     "output_type": "error",
     "traceback": [
      "\u001b[1;36m  File \u001b[1;32m\"C:\\Users\\BIT\\AppData\\Local\\Temp/ipykernel_2344/2514768537.py\"\u001b[1;36m, line \u001b[1;32m1\u001b[0m\n\u001b[1;33m    a = \" 안녕하세요\u001b[0m\n\u001b[1;37m               ^\u001b[0m\n\u001b[1;31mSyntaxError\u001b[0m\u001b[1;31m:\u001b[0m EOL while scanning string literal\n"
     ]
    }
   ],
   "source": [
    "a = \" 안녕하세요\n",
    "반갑습니다.\"\n",
    "# 한 줄에 적어야한다"
   ]
  },
  {
   "cell_type": "markdown",
   "id": "06f78bd5-167b-42e9-a7ab-637eb597cc2f",
   "metadata": {},
   "source": [
    "**docstrings**"
   ]
  },
  {
   "cell_type": "code",
   "execution_count": 150,
   "id": "8f0ce830-94d9-41cf-afbc-f31e59942050",
   "metadata": {},
   "outputs": [],
   "source": [
    "a = \"\"\"\n",
    "안녕하세요\n",
    "반갑습니다.\n",
    "\"\"\"\n",
    "#\"\"\"따옴표 3개로 작성하면 줄을 띄워도 작성이 가능하다."
   ]
  },
  {
   "cell_type": "code",
   "execution_count": 151,
   "id": "8b21c809-6bcb-4b75-bd5e-ecb5c8de863b",
   "metadata": {},
   "outputs": [
    {
     "name": "stdout",
     "output_type": "stream",
     "text": [
      "\n",
      "안녕하세요\n",
      "반갑습니다.\n",
      "\n"
     ]
    }
   ],
   "source": [
    "print(a)"
   ]
  },
  {
   "cell_type": "code",
   "execution_count": 152,
   "id": "5fa566ef-6dbc-4522-947e-b427028ce624",
   "metadata": {},
   "outputs": [
    {
     "data": {
      "text/plain": [
       "str"
      ]
     },
     "execution_count": 152,
     "metadata": {},
     "output_type": "execute_result"
    }
   ],
   "source": [
    "type (a)"
   ]
  },
  {
   "cell_type": "code",
   "execution_count": 153,
   "id": "1ea04ca6-1933-43d6-8f1d-8f36c80cd5be",
   "metadata": {},
   "outputs": [
    {
     "data": {
      "text/plain": [
       "float"
      ]
     },
     "execution_count": 153,
     "metadata": {},
     "output_type": "execute_result"
    }
   ],
   "source": [
    "a= 3.14\n",
    "type(a)"
   ]
  },
  {
   "cell_type": "markdown",
   "id": "bd044716-0c27-4923-8e9c-f203e6f8a309",
   "metadata": {},
   "source": [
    "### p.92 연습문제\n",
    "\n",
    "https://blog.naver.com/goodse7/222666620063"
   ]
  },
  {
   "cell_type": "code",
   "execution_count": null,
   "id": "6cde3bda-da0c-4767-bbe3-506678524508",
   "metadata": {},
   "outputs": [],
   "source": []
  },
  {
   "cell_type": "markdown",
   "id": "06921640-7aa3-4932-a51b-fd7620730cbe",
   "metadata": {},
   "source": []
  }
 ],
 "metadata": {
  "kernelspec": {
   "display_name": "Python 3 (ipykernel)",
   "language": "python",
   "name": "python3"
  },
  "language_info": {
   "codemirror_mode": {
    "name": "ipython",
    "version": 3
   },
   "file_extension": ".py",
   "mimetype": "text/x-python",
   "name": "python",
   "nbconvert_exporter": "python",
   "pygments_lexer": "ipython3",
   "version": "3.9.7"
  }
 },
 "nbformat": 4,
 "nbformat_minor": 5
}
