{
 "cells": [
  {
   "cell_type": "markdown",
   "id": "0f1438c5-5798-4281-88e7-a581b7b2a713",
   "metadata": {},
   "source": [
    "# chapter 4"
   ]
  },
  {
   "cell_type": "code",
   "execution_count": 2,
   "id": "1eef1be3-cb55-4a6a-803c-775aff64cb46",
   "metadata": {},
   "outputs": [],
   "source": [
    "a= 3 ; b = 5"
   ]
  },
  {
   "cell_type": "code",
   "execution_count": 3,
   "id": "b0b60bc9-3ac7-43de-9a56-ca3025132bfb",
   "metadata": {},
   "outputs": [
    {
     "data": {
      "text/plain": [
       "8"
      ]
     },
     "execution_count": 3,
     "metadata": {},
     "output_type": "execute_result"
    }
   ],
   "source": [
    "a +b"
   ]
  },
  {
   "cell_type": "code",
   "execution_count": 4,
   "id": "426b1905-05ed-4019-a0a9-9626ea1f94ab",
   "metadata": {},
   "outputs": [
    {
     "data": {
      "text/plain": [
       "-2"
      ]
     },
     "execution_count": 4,
     "metadata": {},
     "output_type": "execute_result"
    }
   ],
   "source": [
    "a-b"
   ]
  },
  {
   "cell_type": "code",
   "execution_count": 5,
   "id": "88ac3ad9-a3c7-4bb2-b05e-19ec17834bf2",
   "metadata": {},
   "outputs": [
    {
     "data": {
      "text/plain": [
       "0.6"
      ]
     },
     "execution_count": 5,
     "metadata": {},
     "output_type": "execute_result"
    }
   ],
   "source": [
    "a/b"
   ]
  },
  {
   "cell_type": "code",
   "execution_count": 6,
   "id": "216093f1-9326-4ebe-8a09-d6a2dd8c2a27",
   "metadata": {},
   "outputs": [
    {
     "data": {
      "text/plain": [
       "0"
      ]
     },
     "execution_count": 6,
     "metadata": {},
     "output_type": "execute_result"
    }
   ],
   "source": [
    "a//b"
   ]
  },
  {
   "cell_type": "code",
   "execution_count": 7,
   "id": "fbef3bc2-bb9d-4301-a705-f4b979c6c723",
   "metadata": {},
   "outputs": [
    {
     "data": {
      "text/plain": [
       "3"
      ]
     },
     "execution_count": 7,
     "metadata": {},
     "output_type": "execute_result"
    }
   ],
   "source": [
    "a%b"
   ]
  },
  {
   "cell_type": "code",
   "execution_count": 8,
   "id": "f5aaff19-d2dc-410a-b4fd-d1e4b8d8a5b7",
   "metadata": {},
   "outputs": [
    {
     "data": {
      "text/plain": [
       "243"
      ]
     },
     "execution_count": 8,
     "metadata": {},
     "output_type": "execute_result"
    }
   ],
   "source": [
    "a**b"
   ]
  },
  {
   "cell_type": "markdown",
   "id": "4b630e19-e76a-419b-b8ca-c4c69a0d9e44",
   "metadata": {},
   "source": [
    "우선순위"
   ]
  },
  {
   "cell_type": "code",
   "execution_count": 9,
   "id": "8ac21249-a318-4e3c-a0bf-a7257b75b372",
   "metadata": {},
   "outputs": [],
   "source": [
    "a, b,c = 2,3,4"
   ]
  },
  {
   "cell_type": "code",
   "execution_count": 12,
   "id": "4ee55756-1223-4dd2-963b-0fcf2fa3a84a",
   "metadata": {},
   "outputs": [
    {
     "data": {
      "text/plain": [
       "1"
      ]
     },
     "execution_count": 12,
     "metadata": {},
     "output_type": "execute_result"
    }
   ],
   "source": [
    "a+b-c"
   ]
  },
  {
   "cell_type": "code",
   "execution_count": 13,
   "id": "863e5440-8ed3-4b15-ad99-1c4320531ae9",
   "metadata": {},
   "outputs": [
    {
     "data": {
      "text/plain": [
       "1"
      ]
     },
     "execution_count": 13,
     "metadata": {},
     "output_type": "execute_result"
    }
   ],
   "source": [
    "a+(b-c)"
   ]
  },
  {
   "cell_type": "code",
   "execution_count": 14,
   "id": "84720d93-6ecb-4eec-8947-6dd4ac841f35",
   "metadata": {},
   "outputs": [
    {
     "data": {
      "text/plain": [
       "20"
      ]
     },
     "execution_count": 14,
     "metadata": {},
     "output_type": "execute_result"
    }
   ],
   "source": [
    "(a+b)*c"
   ]
  },
  {
   "cell_type": "code",
   "execution_count": 15,
   "id": "77bad5ae-0bab-41e8-9bac-ca1f9f09af27",
   "metadata": {},
   "outputs": [
    {
     "data": {
      "text/plain": [
       "14"
      ]
     },
     "execution_count": 15,
     "metadata": {},
     "output_type": "execute_result"
    }
   ],
   "source": [
    "a+(b*c)"
   ]
  },
  {
   "cell_type": "markdown",
   "id": "7a52bf1e-09f0-437d-88e0-ecff04f7e6ad",
   "metadata": {},
   "source": [
    "### 내장 자료형 함수\n",
    " - int()\n",
    " - bin()\n",
    " - oct()\n",
    " - hex()\n",
    " - float()"
   ]
  },
  {
   "cell_type": "markdown",
   "id": "82f4ab02-e13f-4691-abda-464006bb6394",
   "metadata": {},
   "source": [
    "문자형 자료형 함수\n",
    " - str()"
   ]
  },
  {
   "cell_type": "code",
   "execution_count": 19,
   "id": "dc4a929e-1637-4fe5-bdba-1b99a5628f3f",
   "metadata": {},
   "outputs": [
    {
     "ename": "TypeError",
     "evalue": "can only concatenate str (not \"int\") to str",
     "output_type": "error",
     "traceback": [
      "\u001b[1;31m---------------------------------------------------------------------------\u001b[0m",
      "\u001b[1;31mTypeError\u001b[0m                                 Traceback (most recent call last)",
      "\u001b[1;32m~\\AppData\\Local\\Temp/ipykernel_4448/2887413888.py\u001b[0m in \u001b[0;36m<module>\u001b[1;34m\u001b[0m\n\u001b[0;32m      1\u001b[0m \u001b[0ma\u001b[0m \u001b[1;33m=\u001b[0m \u001b[1;36m100\u001b[0m\u001b[1;33m\u001b[0m\u001b[1;33m\u001b[0m\u001b[0m\n\u001b[1;32m----> 2\u001b[1;33m \u001b[0mprint\u001b[0m\u001b[1;33m(\u001b[0m\u001b[1;34m\"안녕 난\"\u001b[0m \u001b[1;33m+\u001b[0m \u001b[0ma\u001b[0m\u001b[1;33m+\u001b[0m \u001b[1;34m\"야!\"\u001b[0m\u001b[1;33m)\u001b[0m    \u001b[1;31m# 안녕 난 100 야!   # a가 문자열이 아닌 숫자라 에러가 생김\u001b[0m\u001b[1;33m\u001b[0m\u001b[1;33m\u001b[0m\u001b[0m\n\u001b[0m",
      "\u001b[1;31mTypeError\u001b[0m: can only concatenate str (not \"int\") to str"
     ]
    }
   ],
   "source": [
    "a = 100\n",
    "print(\"안녕 난\" + a+ \"야!\")    # 안녕 난 100 야!   # a가 문자열이 아닌 숫자라 에러가 생김"
   ]
  },
  {
   "cell_type": "code",
   "execution_count": 20,
   "id": "94339f0d-dbf8-4733-8685-8a8f636684fa",
   "metadata": {},
   "outputs": [
    {
     "name": "stdout",
     "output_type": "stream",
     "text": [
      "안녕 난100야!\n"
     ]
    }
   ],
   "source": [
    "a = 100\n",
    "print(\"안녕 난\" + str(a)+ \"야!\")"
   ]
  },
  {
   "cell_type": "markdown",
   "id": "3d422409-43a3-4a38-9243-5069fdc1ae95",
   "metadata": {},
   "source": [
    "## 복합대입연산자"
   ]
  },
  {
   "cell_type": "code",
   "execution_count": 27,
   "id": "4886670d-7c33-41ce-8478-8eebe139b6fa",
   "metadata": {},
   "outputs": [],
   "source": [
    "a = 10"
   ]
  },
  {
   "cell_type": "code",
   "execution_count": 28,
   "id": "10c1baa0-7f5f-4dce-b593-40e0352dc06d",
   "metadata": {},
   "outputs": [
    {
     "data": {
      "text/plain": [
       "13"
      ]
     },
     "execution_count": 28,
     "metadata": {},
     "output_type": "execute_result"
    }
   ],
   "source": [
    "a= a+3\n",
    "a"
   ]
  },
  {
   "cell_type": "code",
   "execution_count": 29,
   "id": "758d1d83-92df-49e4-80a7-e9bf65a6a920",
   "metadata": {},
   "outputs": [
    {
     "data": {
      "text/plain": [
       "2197"
      ]
     },
     "execution_count": 29,
     "metadata": {},
     "output_type": "execute_result"
    }
   ],
   "source": [
    "a **=3\n",
    "a"
   ]
  },
  {
   "cell_type": "code",
   "execution_count": 31,
   "id": "04c5c2be-8147-4a09-afba-7cd2e229d2ef",
   "metadata": {},
   "outputs": [
    {
     "data": {
      "text/plain": [
       "1000"
      ]
     },
     "execution_count": 31,
     "metadata": {},
     "output_type": "execute_result"
    }
   ],
   "source": [
    "10 **3"
   ]
  },
  {
   "cell_type": "markdown",
   "id": "73bc03ae-8d75-4455-ba42-3d1151e3209d",
   "metadata": {},
   "source": [
    "**96p 프로그램1**"
   ]
  },
  {
   "cell_type": "code",
   "execution_count": 45,
   "id": "b45ae05a-07ca-4bc7-a8c4-e387b8165247",
   "metadata": {},
   "outputs": [
    {
     "name": "stdin",
     "output_type": "stream",
     "text": [
      "교환할 돈은 얼마? 7777\n"
     ]
    },
    {
     "name": "stdout",
     "output_type": "stream",
     "text": [
      "\n",
      " 500원짜리 ==> 15개\n",
      "\n",
      " 100원짜리 ==> 2개\n",
      "\n",
      " 50원짜리 ==> 1개\n",
      "\n",
      " 10원짜리 ==> 2개\n",
      "바꾸지 못한 잔돈 ==> 7원 \n",
      "\n"
     ]
    }
   ],
   "source": [
    "## 변수 선언 부분 ##\n",
    "money, c500,c100,c50,c10 = 0,0,0,0,0\n",
    "\n",
    "## 메인 코드 부분##\n",
    "money = int(input(\"교환할 돈은 얼마?\"))\n",
    "\n",
    "c500 = money //500\n",
    "money %=500\n",
    "\n",
    "c100 = money //100\n",
    "money %=100\n",
    "\n",
    "c50 = money //50\n",
    "money %= 50\n",
    "\n",
    "c10 = money //10\n",
    "money %=10\n",
    "\n",
    "print(\"\\n 500원짜리 ==> %d개\" % c500)\n",
    "print(\"\\n 100원짜리 ==> %d개\" % c100)\n",
    "print(\"\\n 50원짜리 ==> %d개\" % c50)\n",
    "print(\"\\n 10원짜리 ==> %d개\" % c10)\n",
    "print(\"바꾸지 못한 잔돈 ==> %d원 \\n\" %money)\n",
    "\n",
    "#c500처럼 저런수에 money라는 변수를 넣고 500의 몫을 c500에 넣는다 \n"
   ]
  },
  {
   "cell_type": "code",
   "execution_count": 44,
   "id": "c71ef17c-3789-4236-aeda-cf4fc20bf15b",
   "metadata": {},
   "outputs": [
    {
     "name": "stdin",
     "output_type": "stream",
     "text": [
      "교환할 돈은 얼마? 7777\n"
     ]
    },
    {
     "name": "stdout",
     "output_type": "stream",
     "text": [
      " 500원짜리 ==> 15개\n",
      " 100원짜리 ==> 2개\n",
      " 50원짜리 ==> 1개\n",
      " 10원짜리 ==> 2개\n",
      "바꾸지 못한 잔돈 ==> 7원 \n",
      "\n"
     ]
    }
   ],
   "source": [
    "money, c500,c100,c50,c10 = 0,0,0,0,0\n",
    "\n",
    "## 메인 코드 부분##\n",
    "money = int(input(\"교환할 돈은 얼마?\"))\n",
    "\n",
    "c500 = money //500\n",
    "money %=500\n",
    "\n",
    "c100 = money //100\n",
    "money %=100\n",
    "\n",
    "c50 = money //50\n",
    "money %= 50\n",
    "\n",
    "c10 = money //10\n",
    "money %=10\n",
    "\n",
    "print(\" 500원짜리 ==> %d개\" % c500)\n",
    "print(\" 100원짜리 ==> %d개\" % c100)\n",
    "print(\" 50원짜리 ==> %d개\" % c50)\n",
    "print(\" 10원짜리 ==> %d개\" % c10)\n",
    "print(\"바꾸지 못한 잔돈 ==> %d원 \\n\" %money)"
   ]
  },
  {
   "cell_type": "markdown",
   "id": "1ff24393-7f51-424c-b844-3826771febc5",
   "metadata": {},
   "source": [
    "## 관계연산자"
   ]
  },
  {
   "cell_type": "code",
   "execution_count": 35,
   "id": "c7dcbe1d-3cd3-4a7c-8ac6-9c10ee9abbe2",
   "metadata": {},
   "outputs": [
    {
     "data": {
      "text/plain": [
       "False"
      ]
     },
     "execution_count": 35,
     "metadata": {},
     "output_type": "execute_result"
    }
   ],
   "source": [
    "10 ==100"
   ]
  },
  {
   "cell_type": "code",
   "execution_count": 36,
   "id": "ac7aec52-92d1-4513-9855-6985f577ac88",
   "metadata": {},
   "outputs": [
    {
     "data": {
      "text/plain": [
       "True"
      ]
     },
     "execution_count": 36,
     "metadata": {},
     "output_type": "execute_result"
    }
   ],
   "source": [
    "10 == 10"
   ]
  },
  {
   "cell_type": "code",
   "execution_count": 37,
   "id": "de02dda6-1350-463c-bf8f-c8e3c7a541f6",
   "metadata": {},
   "outputs": [
    {
     "data": {
      "text/plain": [
       "True"
      ]
     },
     "execution_count": 37,
     "metadata": {},
     "output_type": "execute_result"
    }
   ],
   "source": [
    "10>5"
   ]
  },
  {
   "cell_type": "code",
   "execution_count": 38,
   "id": "eb3b94da-9c4b-4522-9ffe-9986a31e99d7",
   "metadata": {},
   "outputs": [
    {
     "data": {
      "text/plain": [
       "False"
      ]
     },
     "execution_count": 38,
     "metadata": {},
     "output_type": "execute_result"
    }
   ],
   "source": [
    "5>10"
   ]
  },
  {
   "cell_type": "code",
   "execution_count": 39,
   "id": "577a545b-4e29-4f06-8bdd-6ef6c8991e30",
   "metadata": {},
   "outputs": [
    {
     "name": "stdout",
     "output_type": "stream",
     "text": [
      "5보다 크다\n"
     ]
    }
   ],
   "source": [
    "if 10 > 5 :\n",
    "    print(\"5보다 크다\")"
   ]
  },
  {
   "cell_type": "code",
   "execution_count": 41,
   "id": "3a3ac376-09e9-47c8-ad27-99e2ffd43d1e",
   "metadata": {},
   "outputs": [
    {
     "data": {
      "text/plain": [
       "True"
      ]
     },
     "execution_count": 41,
     "metadata": {},
     "output_type": "execute_result"
    }
   ],
   "source": [
    "10 != 5 "
   ]
  },
  {
   "cell_type": "code",
   "execution_count": 42,
   "id": "1321e975-d08c-4554-a8cc-ce4fe6f41b19",
   "metadata": {},
   "outputs": [
    {
     "data": {
      "text/plain": [
       "False"
      ]
     },
     "execution_count": 42,
     "metadata": {},
     "output_type": "execute_result"
    }
   ],
   "source": [
    "10 != 10 "
   ]
  },
  {
   "cell_type": "code",
   "execution_count": 52,
   "id": "00afc41f-19c7-4e0a-97b2-eee479494bbe",
   "metadata": {},
   "outputs": [
    {
     "name": "stdout",
     "output_type": "stream",
     "text": [
      "False\n",
      "True\n",
      "True\n"
     ]
    }
   ],
   "source": [
    "a = 99\n",
    "\n",
    "#논리곱\n",
    "print ((a>100) and (a<200))\n",
    "\n",
    "#논리합\n",
    "print((a>100) or (a<200))\n",
    "\n",
    "#논리부정\n",
    "print ( not(a==100))"
   ]
  },
  {
   "cell_type": "code",
   "execution_count": 57,
   "id": "a816f28c-4d88-49fb-a0fd-ab02fb7dbbd6",
   "metadata": {},
   "outputs": [
    {
     "data": {
      "text/plain": [
       "False"
      ]
     },
     "execution_count": 57,
     "metadata": {},
     "output_type": "execute_result"
    }
   ],
   "source": [
    "(a>100) and (a<200)"
   ]
  },
  {
   "cell_type": "code",
   "execution_count": 58,
   "id": "bf772155-1c10-427d-91ab-9a2b78492061",
   "metadata": {},
   "outputs": [
    {
     "data": {
      "text/plain": [
       "True"
      ]
     },
     "execution_count": 58,
     "metadata": {},
     "output_type": "execute_result"
    }
   ],
   "source": [
    "# a가 100보다 크거나 200보다 작은거 !\n",
    "(a>100) or (a<200)"
   ]
  },
  {
   "cell_type": "code",
   "execution_count": 59,
   "id": "70d10196-81b4-4d94-b7f6-218cb358ddb5",
   "metadata": {},
   "outputs": [
    {
     "data": {
      "text/plain": [
       "True"
      ]
     },
     "execution_count": 59,
     "metadata": {},
     "output_type": "execute_result"
    }
   ],
   "source": [
    "# 반대!\n",
    "not(a==100)"
   ]
  },
  {
   "cell_type": "markdown",
   "id": "4527ff92-7f23-48d2-aa31-8f56c77d20f7",
   "metadata": {},
   "source": [
    "# 비트연산자"
   ]
  },
  {
   "cell_type": "code",
   "execution_count": 60,
   "id": "f71403c0-69f7-431a-b221-e1281d0178ad",
   "metadata": {},
   "outputs": [],
   "source": [
    "# 비트 논리연산"
   ]
  },
  {
   "cell_type": "code",
   "execution_count": 61,
   "id": "19d0cd8d-f9fc-4555-a24c-be173e72b0b1",
   "metadata": {},
   "outputs": [
    {
     "data": {
      "text/plain": [
       "2"
      ]
     },
     "execution_count": 61,
     "metadata": {},
     "output_type": "execute_result"
    }
   ],
   "source": [
    "10 & 7"
   ]
  },
  {
   "cell_type": "code",
   "execution_count": 62,
   "id": "1f4d1965-26b2-4bd9-8e9d-0c5779798cb8",
   "metadata": {},
   "outputs": [
    {
     "data": {
      "text/plain": [
       "('0b1010', '0b111')"
      ]
     },
     "execution_count": 62,
     "metadata": {},
     "output_type": "execute_result"
    }
   ],
   "source": [
    "bin(10) , bin(7)"
   ]
  },
  {
   "cell_type": "code",
   "execution_count": 63,
   "id": "e98c9df3-b11e-4564-946d-e3f085dfe6e6",
   "metadata": {},
   "outputs": [
    {
     "data": {
      "text/plain": [
       "0"
      ]
     },
     "execution_count": 63,
     "metadata": {},
     "output_type": "execute_result"
    }
   ],
   "source": [
    "2&1"
   ]
  },
  {
   "cell_type": "code",
   "execution_count": 64,
   "id": "3e162b5a-94e5-49f6-b288-8c014e9b97e4",
   "metadata": {},
   "outputs": [
    {
     "data": {
      "text/plain": [
       "('0b10', '0b1')"
      ]
     },
     "execution_count": 64,
     "metadata": {},
     "output_type": "execute_result"
    }
   ],
   "source": [
    "bin(2) , bin(1)"
   ]
  },
  {
   "cell_type": "code",
   "execution_count": 65,
   "id": "d2a1a18a-ab63-4724-b499-66a4b06fefcc",
   "metadata": {},
   "outputs": [
    {
     "data": {
      "text/plain": [
       "72"
      ]
     },
     "execution_count": 65,
     "metadata": {},
     "output_type": "execute_result"
    }
   ],
   "source": [
    "123 & 456"
   ]
  },
  {
   "cell_type": "code",
   "execution_count": 66,
   "id": "7429e7f5-85c3-4a71-a114-2dba0d90aca4",
   "metadata": {},
   "outputs": [
    {
     "data": {
      "text/plain": [
       "('0b1111011', '0b111001000')"
      ]
     },
     "execution_count": 66,
     "metadata": {},
     "output_type": "execute_result"
    }
   ],
   "source": [
    "bin(123) , bin(456)"
   ]
  },
  {
   "cell_type": "code",
   "execution_count": 67,
   "id": "58987a3a-71c2-4905-85d1-87251f867792",
   "metadata": {},
   "outputs": [
    {
     "data": {
      "text/plain": [
       "'0b10'"
      ]
     },
     "execution_count": 67,
     "metadata": {},
     "output_type": "execute_result"
    }
   ],
   "source": [
    "bin(2)"
   ]
  },
  {
   "cell_type": "code",
   "execution_count": 76,
   "id": "b01f0498-7471-4647-9943-b84e6dcf5815",
   "metadata": {},
   "outputs": [
    {
     "data": {
      "text/plain": [
       "-3"
      ]
     },
     "execution_count": 76,
     "metadata": {},
     "output_type": "execute_result"
    }
   ],
   "source": [
    "~2"
   ]
  },
  {
   "cell_type": "code",
   "execution_count": 78,
   "id": "217a9915-2de0-4276-917e-6a3b7499a31b",
   "metadata": {},
   "outputs": [
    {
     "data": {
      "text/plain": [
       "'-0b11'"
      ]
     },
     "execution_count": 78,
     "metadata": {},
     "output_type": "execute_result"
    }
   ],
   "source": [
    "bin(~2)"
   ]
  },
  {
   "cell_type": "code",
   "execution_count": 79,
   "id": "724b4bb2-f709-450f-8102-35e72400cff2",
   "metadata": {},
   "outputs": [
    {
     "data": {
      "text/plain": [
       "15"
      ]
     },
     "execution_count": 79,
     "metadata": {},
     "output_type": "execute_result"
    }
   ],
   "source": [
    "10|7"
   ]
  },
  {
   "cell_type": "markdown",
   "id": "8157274c-0e87-41db-8b96-909319d0379d",
   "metadata": {},
   "source": [
    "Masking 기법 : 비트 기반 연산!!!\n",
    "\n",
    "```\n",
    "00010 & 11000\n",
    "```"
   ]
  },
  {
   "cell_type": "markdown",
   "id": "dadeff0b-6c01-469e-8d63-5b111aa481ec",
   "metadata": {},
   "source": [
    "# 쉬프트 연산자\n",
    ">>\n",
    "\n",
    "<<"
   ]
  },
  {
   "cell_type": "code",
   "execution_count": 82,
   "id": "c661f2ad-371f-4f31-bf76-1efafde4d6ff",
   "metadata": {},
   "outputs": [
    {
     "data": {
      "text/plain": [
       "'0b1010'"
      ]
     },
     "execution_count": 82,
     "metadata": {},
     "output_type": "execute_result"
    }
   ],
   "source": [
    "a= 10; bin(a)"
   ]
  },
  {
   "cell_type": "code",
   "execution_count": 83,
   "id": "cefc038e-f539-49e0-a4b7-d52fcd6a55c1",
   "metadata": {},
   "outputs": [
    {
     "data": {
      "text/plain": [
       "20"
      ]
     },
     "execution_count": 83,
     "metadata": {},
     "output_type": "execute_result"
    }
   ],
   "source": [
    "a<<1 #1칸"
   ]
  },
  {
   "cell_type": "code",
   "execution_count": 89,
   "id": "ca4149e5-c4e3-45c1-88e8-220487d82d54",
   "metadata": {},
   "outputs": [
    {
     "data": {
      "text/plain": [
       "'0b101000'"
      ]
     },
     "execution_count": 89,
     "metadata": {},
     "output_type": "execute_result"
    }
   ],
   "source": [
    "bin(a<<2)"
   ]
  },
  {
   "cell_type": "code",
   "execution_count": 90,
   "id": "f55f0722-8474-4719-af62-4ee8f8098512",
   "metadata": {},
   "outputs": [
    {
     "data": {
      "text/plain": [
       "'0b101'"
      ]
     },
     "execution_count": 90,
     "metadata": {},
     "output_type": "execute_result"
    }
   ],
   "source": [
    "#>>\n",
    "bin(a>>1)"
   ]
  },
  {
   "cell_type": "markdown",
   "id": "1b8fc9fc-a54b-4fe7-b74e-a51a33490197",
   "metadata": {},
   "source": [
    "# 응용 - 윤년계산하기\n",
    "\n",
    "윤년은 \n",
    " - 4로 나누어 떨어지고 100으로 나누어 떨어지지않는다.\n",
    " - 400으로 나누어 떨어진다\n",
    " "
   ]
  },
  {
   "cell_type": "code",
   "execution_count": 103,
   "id": "12076c8e-4b9d-44ab-b154-2895eb6dc4a3",
   "metadata": {},
   "outputs": [
    {
     "name": "stdin",
     "output_type": "stream",
     "text": [
      "연도를 입력하세요: 2022\n"
     ]
    },
    {
     "name": "stdout",
     "output_type": "stream",
     "text": [
      "2022년은 윤년이 아닙니다.\n"
     ]
    }
   ],
   "source": [
    "year = 0\n",
    "\n",
    "if __name__==\"__main__\" :\n",
    "    year = int (input('연도를 입력하세요:'))\n",
    "    if ((year %4 ==0) and ( year %100 != 0)) or (year % 400 ==0):\n",
    "        print (\"%d년은 윤년입니다.\"% year);\n",
    "        \n",
    "    else:\n",
    "        print (\"%d년은 윤년이 아닙니다.\" %year);\n",
    "    "
   ]
  },
  {
   "cell_type": "code",
   "execution_count": null,
   "id": "52147949-a86e-4b12-816b-bd695e2f4842",
   "metadata": {},
   "outputs": [],
   "source": []
  },
  {
   "cell_type": "code",
   "execution_count": null,
   "id": "ba969e3b-372e-456e-8309-ea44b665eefe",
   "metadata": {},
   "outputs": [],
   "source": []
  }
 ],
 "metadata": {
  "kernelspec": {
   "display_name": "Python 3 (ipykernel)",
   "language": "python",
   "name": "python3"
  },
  "language_info": {
   "codemirror_mode": {
    "name": "ipython",
    "version": 3
   },
   "file_extension": ".py",
   "mimetype": "text/x-python",
   "name": "python",
   "nbconvert_exporter": "python",
   "pygments_lexer": "ipython3",
   "version": "3.9.7"
  }
 },
 "nbformat": 4,
 "nbformat_minor": 5
}
